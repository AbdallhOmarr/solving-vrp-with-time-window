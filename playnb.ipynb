{
 "cells": [
  {
   "cell_type": "code",
   "execution_count": 1,
   "metadata": {},
   "outputs": [],
   "source": [
    "from vrptw_base import *\n",
    "from genetic_algorithm import *\n",
    "import numpy as np"
   ]
  },
  {
   "cell_type": "code",
   "execution_count": 2,
   "metadata": {},
   "outputs": [],
   "source": [
    "filepath = r\"D:\\Abdalla Omar\\repos\\solving-vrp-with-time-window\\solomon-100\\r101.txt\""
   ]
  },
  {
   "cell_type": "code",
   "execution_count": 3,
   "metadata": {},
   "outputs": [],
   "source": [
    "graph = VrptwGraph(filepath,0.2)"
   ]
  },
  {
   "cell_type": "code",
   "execution_count": 4,
   "metadata": {},
   "outputs": [],
   "source": [
    "ga = GeneticAlgorithm(graph)"
   ]
  },
  {
   "cell_type": "code",
   "execution_count": 5,
   "metadata": {},
   "outputs": [],
   "source": [
    "initial_solution = ga.get_nnh_solution()"
   ]
  },
  {
   "cell_type": "code",
   "execution_count": 6,
   "metadata": {},
   "outputs": [
    {
     "data": {
      "text/plain": [
       "2442.312436145263"
      ]
     },
     "execution_count": 6,
     "metadata": {},
     "output_type": "execute_result"
    }
   ],
   "source": [
    "initial_solution.travel_distance"
   ]
  },
  {
   "cell_type": "code",
   "execution_count": 7,
   "metadata": {},
   "outputs": [
    {
     "data": {
      "text/plain": [
       "array([  0,  53,  58,   0,  27,  28,  26,  54,  80,  70,   0,  89,  93,\n",
       "         0,   6,  94,  96,  13, 100,   0,  40,  74,   4,  25,  77,   0,\n",
       "        52,  18,  60,  48,   0,  69,   1,   0,  95,  97,  37,  91,   0,\n",
       "        12,  76,  50,  68,  24,  17,   0,  31,  88,   7,   8,  46,  10,\n",
       "        32,  35,   0,  99,  85,  84,  43,  55,   0,  59,  92,  98,  61,\n",
       "        86,  57,  56,   0,   2,  87,  41,   3,  34,  20,   0,  21,  73,\n",
       "        22,   9,  66,   0,   5,  83,  82,  19,  49,   0,  72,  75,  67,\n",
       "        79,  78,   0,  33,  81,  90,   0,  30,  51,   0,  42,  14,  44,\n",
       "        16,  38,   0,  62,  11,  64,   0,  45,  47,  71,   0,  29,  23,\n",
       "         0,  15,   0,  39,  65,   0,  63,  36,   0])"
      ]
     },
     "execution_count": 7,
     "metadata": {},
     "output_type": "execute_result"
    }
   ],
   "source": [
    "initial_solution.travel_path"
   ]
  },
  {
   "cell_type": "code",
   "execution_count": 8,
   "metadata": {},
   "outputs": [
    {
     "data": {
      "text/plain": [
       "0.40944802360271093"
      ]
     },
     "execution_count": 8,
     "metadata": {},
     "output_type": "execute_result"
    }
   ],
   "source": [
    "ga.fitness_value(initial_solution)"
   ]
  },
  {
   "cell_type": "code",
   "execution_count": 9,
   "metadata": {},
   "outputs": [
    {
     "data": {
      "text/plain": [
       "2442.312436145263"
      ]
     },
     "execution_count": 9,
     "metadata": {},
     "output_type": "execute_result"
    }
   ],
   "source": [
    "ga.get_total_solution_distace(initial_solution)"
   ]
  }
 ],
 "metadata": {
  "kernelspec": {
   "display_name": "base",
   "language": "python",
   "name": "python3"
  },
  "language_info": {
   "codemirror_mode": {
    "name": "ipython",
    "version": 3
   },
   "file_extension": ".py",
   "mimetype": "text/x-python",
   "name": "python",
   "nbconvert_exporter": "python",
   "pygments_lexer": "ipython3",
   "version": "3.10.9"
  },
  "orig_nbformat": 4
 },
 "nbformat": 4,
 "nbformat_minor": 2
}
