{
 "cells": [
  {
   "cell_type": "code",
   "execution_count": 1,
   "metadata": {},
   "outputs": [],
   "source": [
    "from vrptw_base import *\n",
    "from genetic_algorithm import *\n",
    "import numpy as np"
   ]
  },
  {
   "cell_type": "code",
   "execution_count": 2,
   "metadata": {},
   "outputs": [],
   "source": [
    "filepath = r\"solomon-100\\r101.txt\""
   ]
  },
  {
   "cell_type": "code",
   "execution_count": 3,
   "metadata": {},
   "outputs": [],
   "source": [
    "graph = VrptwGraph(filepath,0.2)"
   ]
  },
  {
   "cell_type": "code",
   "execution_count": 4,
   "metadata": {},
   "outputs": [],
   "source": [
    "ga = GeneticAlgorithm(graph)"
   ]
  },
  {
   "cell_type": "code",
   "execution_count": 5,
   "metadata": {},
   "outputs": [],
   "source": [
    "initial_solution = ga.get_nnh_solution()"
   ]
  },
  {
   "cell_type": "code",
   "execution_count": 6,
   "metadata": {},
   "outputs": [
    {
     "data": {
      "text/plain": [
       "2442.312436145263"
      ]
     },
     "execution_count": 6,
     "metadata": {},
     "output_type": "execute_result"
    }
   ],
   "source": [
    "initial_solution.travel_distance"
   ]
  },
  {
   "cell_type": "code",
   "execution_count": 7,
   "metadata": {},
   "outputs": [
    {
     "data": {
      "text/plain": [
       "array([  0,  53,  58,   0,  27,  28,  26,  54,  80,  70,   0,  89,  93,\n",
       "         0,   6,  94,  96,  13, 100,   0,  40,  74,   4,  25,  77,   0,\n",
       "        52,  18,  60,  48,   0,  69,   1,   0,  95,  97,  37,  91,   0,\n",
       "        12,  76,  50,  68,  24,  17,   0,  31,  88,   7,   8,  46,  10,\n",
       "        32,  35,   0,  99,  85,  84,  43,  55,   0,  59,  92,  98,  61,\n",
       "        86,  57,  56,   0,   2,  87,  41,   3,  34,  20,   0,  21,  73,\n",
       "        22,   9,  66,   0,   5,  83,  82,  19,  49,   0,  72,  75,  67,\n",
       "        79,  78,   0,  33,  81,  90,   0,  30,  51,   0,  42,  14,  44,\n",
       "        16,  38,   0,  62,  11,  64,   0,  45,  47,  71,   0,  29,  23,\n",
       "         0,  15,   0,  39,  65,   0,  63,  36,   0])"
      ]
     },
     "execution_count": 7,
     "metadata": {},
     "output_type": "execute_result"
    }
   ],
   "source": [
    "initial_solution.travel_path"
   ]
  },
  {
   "cell_type": "code",
   "execution_count": 8,
   "metadata": {},
   "outputs": [
    {
     "data": {
      "text/plain": [
       "0.40944802360271093"
      ]
     },
     "execution_count": 8,
     "metadata": {},
     "output_type": "execute_result"
    }
   ],
   "source": [
    "ga.fitness_value(initial_solution)"
   ]
  },
  {
   "cell_type": "code",
   "execution_count": 9,
   "metadata": {},
   "outputs": [],
   "source": [
    "best_sol = ga.apply_tabu_search(initial_solution,  100, 10)"
   ]
  },
  {
   "cell_type": "code",
   "execution_count": 10,
   "metadata": {},
   "outputs": [
    {
     "data": {
      "text/plain": [
       "2405.2468567758815"
      ]
     },
     "execution_count": 10,
     "metadata": {},
     "output_type": "execute_result"
    }
   ],
   "source": [
    "best_sol.travel_distance"
   ]
  },
  {
   "cell_type": "code",
   "execution_count": 11,
   "metadata": {},
   "outputs": [
    {
     "data": {
      "text/plain": [
       "array([  0,  53,  58,   0,  27,  28,  26,  54,  80,  70,   0,  89,  93,\n",
       "         0,   6,  94,  96,  13, 100,   0,  40,  74,   4,  25,  77,   0,\n",
       "        52,  18,  60,  48,   0,  69,   1,   0,  95,  97,  37,  91,   0,\n",
       "        12,  76,  50,  68,  24,  17,   0,  31,  88,   7,   8,  46,  10,\n",
       "        32,  35,   0,  99,  85,  84,  43,  55,   0,  59,  92,  98,  61,\n",
       "        86,  57,  56,   0,   2,  87,  41,   3,  34,  20,   0,  21,  73,\n",
       "        22,   9,  66,   0,   5,  83,  82,  19,  49,   0,  72,  75,  67,\n",
       "        79,  78,   0,  33,  81,  90,   0,  30,  51,   0,  42,  14,  44,\n",
       "        16,  38,   0,  62,  11,  64,   0,  45,  47,  39,   0,  29,  23,\n",
       "         0,  15,   0,  71,  65,   0,  63,  36,   0])"
      ]
     },
     "execution_count": 11,
     "metadata": {},
     "output_type": "execute_result"
    }
   ],
   "source": [
    "best_sol.travel_path"
   ]
  },
  {
   "cell_type": "code",
   "execution_count": 12,
   "metadata": {},
   "outputs": [],
   "source": [
    "pop = ga.generate_population(100,40)"
   ]
  },
  {
   "cell_type": "code",
   "execution_count": 13,
   "metadata": {},
   "outputs": [],
   "source": [
    "population_fitnesses = [solution.get_total_fitness() for solution in pop]\n",
    "population_best_fitness = max(population_fitnesses)\n",
    "index = population_fitnesses.index(population_best_fitness)\n",
    "best_sol = pop[index]\n"
   ]
  },
  {
   "cell_type": "code",
   "execution_count": 15,
   "metadata": {},
   "outputs": [
    {
     "data": {
      "text/plain": [
       "2382.8622302173453"
      ]
     },
     "execution_count": 15,
     "metadata": {},
     "output_type": "execute_result"
    }
   ],
   "source": [
    "best_sol.travel_distance"
   ]
  },
  {
   "cell_type": "code",
   "execution_count": 16,
   "metadata": {},
   "outputs": [
    {
     "data": {
      "text/plain": [
       "2442.312436145263"
      ]
     },
     "execution_count": 16,
     "metadata": {},
     "output_type": "execute_result"
    }
   ],
   "source": [
    "initial_solution.travel_distance"
   ]
  },
  {
   "cell_type": "code",
   "execution_count": 19,
   "metadata": {},
   "outputs": [
    {
     "name": "stdout",
     "output_type": "stream",
     "text": [
      "iteration:0\n",
      "tabu lst:[] c1=6 and c2=4, checking if they are in tabu lst c1 in=False, c2 in=False\n",
      "generated lst:[1, 2, 3, 6, 5, 4]\n",
      "iteration:1\n",
      "tabu lst:[6, 4] c1=5 and c2=1, checking if they are in tabu lst c1 in=False, c2 in=False\n",
      "generated lst:[5, 2, 3, 4, 1, 6]\n",
      "iteration:2\n",
      "tabu lst:[6, 4, 5, 1] c1=5 and c2=1, checking if they are in tabu lst c1 in=True, c2 in=True\n",
      "iteration:3\n",
      "tabu lst:[6, 4, 5, 1] c1=3 and c2=6, checking if they are in tabu lst c1 in=False, c2 in=True\n",
      "iteration:4\n",
      "tabu lst:[6, 4, 5, 1] c1=4 and c2=3, checking if they are in tabu lst c1 in=True, c2 in=False\n",
      "iteration:5\n",
      "tabu lst:[6, 4, 5, 1] c1=1 and c2=5, checking if they are in tabu lst c1 in=True, c2 in=True\n",
      "iteration:6\n",
      "tabu lst:[6, 4, 5, 1] c1=3 and c2=6, checking if they are in tabu lst c1 in=False, c2 in=True\n",
      "iteration:7\n",
      "tabu lst:[6, 4, 5, 1] c1=5 and c2=4, checking if they are in tabu lst c1 in=True, c2 in=True\n",
      "iteration:8\n",
      "tabu lst:[6, 4, 5, 1] c1=1 and c2=5, checking if they are in tabu lst c1 in=True, c2 in=True\n",
      "iteration:9\n",
      "tabu lst:[6, 4, 5, 1] c1=5 and c2=3, checking if they are in tabu lst c1 in=True, c2 in=False\n",
      "iteration:10\n",
      "tabu lst:[6, 4, 5, 1] c1=4 and c2=5, checking if they are in tabu lst c1 in=True, c2 in=True\n",
      "generated lst:[1, 2, 3, 5, 4, 6]\n",
      "iteration:11\n",
      "tabu lst:[4, 5] c1=1 and c2=2, checking if they are in tabu lst c1 in=False, c2 in=False\n",
      "generated lst:[2, 1, 3, 4, 5, 6]\n",
      "iteration:12\n",
      "tabu lst:[4, 5, 1, 2] c1=2 and c2=1, checking if they are in tabu lst c1 in=True, c2 in=True\n",
      "iteration:13\n",
      "tabu lst:[4, 5, 1, 2] c1=4 and c2=4, checking if they are in tabu lst c1 in=True, c2 in=True\n",
      "iteration:14\n",
      "tabu lst:[4, 5, 1, 2] c1=5 and c2=4, checking if they are in tabu lst c1 in=True, c2 in=True\n",
      "iteration:15\n",
      "tabu lst:[4, 5, 1, 2] c1=3 and c2=5, checking if they are in tabu lst c1 in=False, c2 in=True\n",
      "iteration:16\n",
      "tabu lst:[4, 5, 1, 2] c1=2 and c2=6, checking if they are in tabu lst c1 in=True, c2 in=False\n",
      "iteration:17\n",
      "tabu lst:[4, 5, 1, 2] c1=2 and c2=1, checking if they are in tabu lst c1 in=True, c2 in=True\n",
      "iteration:18\n",
      "tabu lst:[4, 5, 1, 2] c1=4 and c2=3, checking if they are in tabu lst c1 in=True, c2 in=False\n",
      "iteration:19\n",
      "tabu lst:[4, 5, 1, 2] c1=2 and c2=4, checking if they are in tabu lst c1 in=True, c2 in=True\n",
      "iteration:20\n",
      "tabu lst:[4, 5, 1, 2] c1=6 and c2=6, checking if they are in tabu lst c1 in=False, c2 in=False\n",
      "iteration:21\n",
      "tabu lst:[] c1=3 and c2=3, checking if they are in tabu lst c1 in=False, c2 in=False\n",
      "iteration:22\n",
      "tabu lst:[] c1=1 and c2=5, checking if they are in tabu lst c1 in=False, c2 in=False\n",
      "generated lst:[5, 2, 3, 4, 1, 6]\n",
      "iteration:23\n",
      "tabu lst:[1, 5] c1=5 and c2=6, checking if they are in tabu lst c1 in=True, c2 in=False\n",
      "iteration:24\n",
      "tabu lst:[1, 5] c1=4 and c2=6, checking if they are in tabu lst c1 in=False, c2 in=False\n",
      "generated lst:[1, 2, 3, 6, 5, 4]\n",
      "iteration:25\n",
      "tabu lst:[1, 5, 4, 6] c1=6 and c2=1, checking if they are in tabu lst c1 in=True, c2 in=True\n",
      "iteration:26\n",
      "tabu lst:[1, 5, 4, 6] c1=6 and c2=6, checking if they are in tabu lst c1 in=True, c2 in=True\n",
      "iteration:27\n",
      "tabu lst:[1, 5, 4, 6] c1=4 and c2=2, checking if they are in tabu lst c1 in=True, c2 in=False\n",
      "iteration:28\n",
      "tabu lst:[1, 5, 4, 6] c1=2 and c2=6, checking if they are in tabu lst c1 in=False, c2 in=True\n",
      "iteration:29\n",
      "tabu lst:[1, 5, 4, 6] c1=4 and c2=1, checking if they are in tabu lst c1 in=True, c2 in=True\n",
      "iteration:30\n",
      "tabu lst:[1, 5, 4, 6] c1=4 and c2=5, checking if they are in tabu lst c1 in=True, c2 in=True\n",
      "generated lst:[1, 2, 3, 5, 4, 6]\n",
      "iteration:31\n",
      "tabu lst:[4, 5] c1=2 and c2=2, checking if they are in tabu lst c1 in=False, c2 in=False\n",
      "iteration:32\n",
      "tabu lst:[4, 5] c1=3 and c2=6, checking if they are in tabu lst c1 in=False, c2 in=False\n",
      "generated lst:[1, 2, 6, 4, 5, 3]\n",
      "iteration:33\n",
      "tabu lst:[4, 5, 3, 6] c1=6 and c2=4, checking if they are in tabu lst c1 in=True, c2 in=True\n",
      "iteration:34\n",
      "tabu lst:[4, 5, 3, 6] c1=5 and c2=5, checking if they are in tabu lst c1 in=True, c2 in=True\n",
      "iteration:35\n",
      "tabu lst:[4, 5, 3, 6] c1=4 and c2=3, checking if they are in tabu lst c1 in=True, c2 in=True\n",
      "iteration:36\n",
      "tabu lst:[4, 5, 3, 6] c1=2 and c2=2, checking if they are in tabu lst c1 in=False, c2 in=False\n",
      "iteration:37\n",
      "tabu lst:[4, 5, 3, 6] c1=5 and c2=6, checking if they are in tabu lst c1 in=True, c2 in=True\n",
      "iteration:38\n",
      "tabu lst:[4, 5, 3, 6] c1=5 and c2=4, checking if they are in tabu lst c1 in=True, c2 in=True\n",
      "iteration:39\n",
      "tabu lst:[4, 5, 3, 6] c1=2 and c2=3, checking if they are in tabu lst c1 in=False, c2 in=True\n",
      "iteration:40\n",
      "tabu lst:[4, 5, 3, 6] c1=4 and c2=4, checking if they are in tabu lst c1 in=True, c2 in=True\n",
      "iteration:41\n",
      "tabu lst:[] c1=4 and c2=1, checking if they are in tabu lst c1 in=False, c2 in=False\n",
      "generated lst:[4, 2, 3, 1, 5, 6]\n",
      "iteration:42\n",
      "tabu lst:[4, 1] c1=2 and c2=4, checking if they are in tabu lst c1 in=False, c2 in=True\n",
      "iteration:43\n",
      "tabu lst:[4, 1] c1=3 and c2=4, checking if they are in tabu lst c1 in=False, c2 in=True\n",
      "iteration:44\n",
      "tabu lst:[4, 1] c1=4 and c2=2, checking if they are in tabu lst c1 in=True, c2 in=False\n",
      "iteration:45\n",
      "tabu lst:[4, 1] c1=5 and c2=5, checking if they are in tabu lst c1 in=False, c2 in=False\n",
      "iteration:46\n",
      "tabu lst:[4, 1] c1=1 and c2=6, checking if they are in tabu lst c1 in=True, c2 in=False\n",
      "iteration:47\n",
      "tabu lst:[4, 1] c1=5 and c2=6, checking if they are in tabu lst c1 in=False, c2 in=False\n",
      "generated lst:[1, 2, 3, 4, 6, 5]\n",
      "iteration:48\n",
      "tabu lst:[4, 1, 5, 6] c1=6 and c2=1, checking if they are in tabu lst c1 in=True, c2 in=True\n",
      "iteration:49\n",
      "tabu lst:[4, 1, 5, 6] c1=4 and c2=1, checking if they are in tabu lst c1 in=True, c2 in=True\n",
      "iteration:50\n",
      "tabu lst:[4, 1, 5, 6] c1=4 and c2=2, checking if they are in tabu lst c1 in=True, c2 in=False\n",
      "generated lst:[1, 4, 3, 2, 5, 6]\n",
      "iteration:51\n",
      "tabu lst:[4, 2] c1=3 and c2=2, checking if they are in tabu lst c1 in=False, c2 in=True\n",
      "iteration:52\n",
      "tabu lst:[4, 2] c1=2 and c2=3, checking if they are in tabu lst c1 in=True, c2 in=False\n",
      "iteration:53\n",
      "tabu lst:[4, 2] c1=5 and c2=6, checking if they are in tabu lst c1 in=False, c2 in=False\n",
      "generated lst:[1, 2, 3, 4, 6, 5]\n",
      "iteration:54\n",
      "tabu lst:[4, 2, 5, 6] c1=4 and c2=3, checking if they are in tabu lst c1 in=True, c2 in=False\n",
      "iteration:55\n",
      "tabu lst:[4, 2, 5, 6] c1=2 and c2=4, checking if they are in tabu lst c1 in=True, c2 in=True\n",
      "iteration:56\n",
      "tabu lst:[4, 2, 5, 6] c1=4 and c2=1, checking if they are in tabu lst c1 in=True, c2 in=False\n",
      "iteration:57\n",
      "tabu lst:[4, 2, 5, 6] c1=5 and c2=2, checking if they are in tabu lst c1 in=True, c2 in=True\n",
      "iteration:58\n",
      "tabu lst:[4, 2, 5, 6] c1=4 and c2=3, checking if they are in tabu lst c1 in=True, c2 in=False\n",
      "iteration:59\n",
      "tabu lst:[4, 2, 5, 6] c1=6 and c2=3, checking if they are in tabu lst c1 in=True, c2 in=False\n",
      "iteration:60\n",
      "tabu lst:[4, 2, 5, 6] c1=1 and c2=3, checking if they are in tabu lst c1 in=False, c2 in=False\n",
      "generated lst:[3, 2, 1, 4, 5, 6]\n",
      "iteration:61\n",
      "tabu lst:[1, 3] c1=6 and c2=6, checking if they are in tabu lst c1 in=False, c2 in=False\n",
      "iteration:62\n",
      "tabu lst:[1, 3] c1=5 and c2=4, checking if they are in tabu lst c1 in=False, c2 in=False\n",
      "generated lst:[1, 2, 3, 5, 4, 6]\n",
      "iteration:63\n",
      "tabu lst:[1, 3, 5, 4] c1=2 and c2=2, checking if they are in tabu lst c1 in=False, c2 in=False\n",
      "iteration:64\n",
      "tabu lst:[1, 3, 5, 4] c1=2 and c2=5, checking if they are in tabu lst c1 in=False, c2 in=True\n",
      "iteration:65\n",
      "tabu lst:[1, 3, 5, 4] c1=3 and c2=4, checking if they are in tabu lst c1 in=True, c2 in=True\n",
      "iteration:66\n",
      "tabu lst:[1, 3, 5, 4] c1=1 and c2=4, checking if they are in tabu lst c1 in=True, c2 in=True\n",
      "iteration:67\n",
      "tabu lst:[1, 3, 5, 4] c1=2 and c2=3, checking if they are in tabu lst c1 in=False, c2 in=True\n",
      "iteration:68\n",
      "tabu lst:[1, 3, 5, 4] c1=3 and c2=3, checking if they are in tabu lst c1 in=True, c2 in=True\n",
      "iteration:69\n",
      "tabu lst:[1, 3, 5, 4] c1=3 and c2=3, checking if they are in tabu lst c1 in=True, c2 in=True\n",
      "iteration:70\n",
      "tabu lst:[1, 3, 5, 4] c1=2 and c2=2, checking if they are in tabu lst c1 in=False, c2 in=False\n",
      "iteration:71\n",
      "tabu lst:[] c1=2 and c2=3, checking if they are in tabu lst c1 in=False, c2 in=False\n",
      "generated lst:[1, 3, 2, 4, 5, 6]\n",
      "iteration:72\n",
      "tabu lst:[2, 3] c1=6 and c2=2, checking if they are in tabu lst c1 in=False, c2 in=True\n",
      "iteration:73\n",
      "tabu lst:[2, 3] c1=6 and c2=4, checking if they are in tabu lst c1 in=False, c2 in=False\n",
      "generated lst:[1, 2, 3, 6, 5, 4]\n",
      "iteration:74\n",
      "tabu lst:[2, 3, 6, 4] c1=4 and c2=1, checking if they are in tabu lst c1 in=True, c2 in=False\n",
      "iteration:75\n",
      "tabu lst:[2, 3, 6, 4] c1=2 and c2=3, checking if they are in tabu lst c1 in=True, c2 in=True\n",
      "iteration:76\n",
      "tabu lst:[2, 3, 6, 4] c1=3 and c2=2, checking if they are in tabu lst c1 in=True, c2 in=True\n",
      "iteration:77\n",
      "tabu lst:[2, 3, 6, 4] c1=2 and c2=2, checking if they are in tabu lst c1 in=True, c2 in=True\n",
      "iteration:78\n",
      "tabu lst:[2, 3, 6, 4] c1=4 and c2=6, checking if they are in tabu lst c1 in=True, c2 in=True\n",
      "iteration:79\n",
      "tabu lst:[2, 3, 6, 4] c1=6 and c2=1, checking if they are in tabu lst c1 in=True, c2 in=False\n",
      "iteration:80\n",
      "tabu lst:[2, 3, 6, 4] c1=5 and c2=2, checking if they are in tabu lst c1 in=False, c2 in=True\n",
      "generated lst:[1, 5, 3, 4, 2, 6]\n",
      "iteration:81\n",
      "tabu lst:[5, 2] c1=1 and c2=6, checking if they are in tabu lst c1 in=False, c2 in=False\n",
      "generated lst:[6, 2, 3, 4, 5, 1]\n",
      "iteration:82\n",
      "tabu lst:[5, 2, 1, 6] c1=4 and c2=4, checking if they are in tabu lst c1 in=False, c2 in=False\n",
      "iteration:83\n",
      "tabu lst:[5, 2, 1, 6] c1=5 and c2=6, checking if they are in tabu lst c1 in=True, c2 in=True\n",
      "iteration:84\n",
      "tabu lst:[5, 2, 1, 6] c1=3 and c2=2, checking if they are in tabu lst c1 in=False, c2 in=True\n",
      "iteration:85\n",
      "tabu lst:[5, 2, 1, 6] c1=1 and c2=2, checking if they are in tabu lst c1 in=True, c2 in=True\n",
      "iteration:86\n",
      "tabu lst:[5, 2, 1, 6] c1=2 and c2=5, checking if they are in tabu lst c1 in=True, c2 in=True\n",
      "iteration:87\n",
      "tabu lst:[5, 2, 1, 6] c1=6 and c2=1, checking if they are in tabu lst c1 in=True, c2 in=True\n",
      "iteration:88\n",
      "tabu lst:[5, 2, 1, 6] c1=3 and c2=1, checking if they are in tabu lst c1 in=False, c2 in=True\n",
      "iteration:89\n",
      "tabu lst:[5, 2, 1, 6] c1=2 and c2=2, checking if they are in tabu lst c1 in=True, c2 in=True\n",
      "iteration:90\n",
      "tabu lst:[5, 2, 1, 6] c1=6 and c2=6, checking if they are in tabu lst c1 in=True, c2 in=True\n",
      "iteration:91\n",
      "tabu lst:[] c1=5 and c2=4, checking if they are in tabu lst c1 in=False, c2 in=False\n",
      "generated lst:[1, 2, 3, 5, 4, 6]\n",
      "iteration:92\n",
      "tabu lst:[5, 4] c1=5 and c2=5, checking if they are in tabu lst c1 in=True, c2 in=True\n",
      "iteration:93\n",
      "tabu lst:[5, 4] c1=5 and c2=1, checking if they are in tabu lst c1 in=True, c2 in=False\n",
      "iteration:94\n",
      "tabu lst:[5, 4] c1=6 and c2=2, checking if they are in tabu lst c1 in=False, c2 in=False\n",
      "generated lst:[1, 6, 3, 4, 5, 2]\n",
      "iteration:95\n",
      "tabu lst:[5, 4, 6, 2] c1=3 and c2=1, checking if they are in tabu lst c1 in=False, c2 in=False\n",
      "generated lst:[3, 2, 1, 4, 5, 6]\n",
      "iteration:96\n",
      "tabu lst:[5, 4, 6, 2, 3, 1] c1=2 and c2=6, checking if they are in tabu lst c1 in=True, c2 in=True\n",
      "iteration:97\n",
      "tabu lst:[5, 4, 6, 2, 3, 1] c1=1 and c2=5, checking if they are in tabu lst c1 in=True, c2 in=True\n",
      "iteration:98\n",
      "tabu lst:[5, 4, 6, 2, 3, 1] c1=4 and c2=1, checking if they are in tabu lst c1 in=True, c2 in=True\n",
      "iteration:99\n",
      "tabu lst:[5, 4, 6, 2, 3, 1] c1=6 and c2=5, checking if they are in tabu lst c1 in=True, c2 in=True\n"
     ]
    }
   ],
   "source": [
    "lst = [1,2,3,4,5,6]\n",
    "\n",
    "import random \n",
    "iterations = 100\n",
    "    \n"
   ]
  },
  {
   "cell_type": "code",
   "execution_count": 12,
   "metadata": {},
   "outputs": [
    {
     "data": {
      "text/plain": [
       "[[2, 1, 3, 4, 5, 6],\n",
       " [1, 2, 3, 4, 5, 6],\n",
       " [1, 2, 3, 4, 5, 6],\n",
       " [1, 2, 3, 4, 5, 6]]"
      ]
     },
     "execution_count": 12,
     "metadata": {},
     "output_type": "execute_result"
    }
   ],
   "source": [
    "population"
   ]
  },
  {
   "cell_type": "code",
   "execution_count": 3,
   "metadata": {},
   "outputs": [
    {
     "data": {
      "text/plain": [
       "3"
      ]
     },
     "execution_count": 3,
     "metadata": {},
     "output_type": "execute_result"
    }
   ],
   "source": [
    "c2"
   ]
  },
  {
   "cell_type": "code",
   "execution_count": 4,
   "metadata": {},
   "outputs": [
    {
     "data": {
      "text/plain": [
       "[5, 3]"
      ]
     },
     "execution_count": 4,
     "metadata": {},
     "output_type": "execute_result"
    }
   ],
   "source": [
    "tabu_lst"
   ]
  },
  {
   "cell_type": "code",
   "execution_count": 5,
   "metadata": {},
   "outputs": [
    {
     "data": {
      "text/plain": [
       "[1, 2, 4, 6]"
      ]
     },
     "execution_count": 5,
     "metadata": {},
     "output_type": "execute_result"
    }
   ],
   "source": [
    "lst"
   ]
  },
  {
   "cell_type": "code",
   "execution_count": null,
   "metadata": {},
   "outputs": [],
   "source": []
  }
 ],
 "metadata": {
  "kernelspec": {
   "display_name": "base",
   "language": "python",
   "name": "python3"
  },
  "language_info": {
   "codemirror_mode": {
    "name": "ipython",
    "version": 3
   },
   "file_extension": ".py",
   "mimetype": "text/x-python",
   "name": "python",
   "nbconvert_exporter": "python",
   "pygments_lexer": "ipython3",
   "version": "3.8.8"
  },
  "orig_nbformat": 4
 },
 "nbformat": 4,
 "nbformat_minor": 2
}
